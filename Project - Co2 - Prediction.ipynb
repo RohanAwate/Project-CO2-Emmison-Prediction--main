{
 "cells": [
  {
   "cell_type": "code",
   "execution_count": null,
   "id": "1fd2c1b7",
   "metadata": {
    "colab": {
     "background_save": true
    },
    "id": "1fd2c1b7",
    "outputId": "724bc991-e03c-4452-8d20-6abce9d7057b"
   },
   "outputs": [
    {
     "name": "stderr",
     "output_type": "stream",
     "text": [
      "/usr/local/lib/python3.7/dist-packages/statsmodels/tools/_testing.py:19: FutureWarning: pandas.util.testing is deprecated. Use the functions in the public API at pandas.testing instead.\n",
      "  import pandas.util.testing as tm\n"
     ]
    }
   ],
   "source": [
    "import pandas as pd\n",
    "import numpy as np\n",
    "import matplotlib.pyplot as plt\n",
    "import seaborn as sns\n",
    "from statsmodels.tsa.seasonal import seasonal_decompose\n",
    "from statsmodels.tsa.holtwinters import SimpleExpSmoothing # SES\n",
    "from statsmodels.tsa.holtwinters import Holt # Holts Exponential Smoothing\n",
    "from statsmodels.tsa.holtwinters import ExponentialSmoothing "
   ]
  },
  {
   "cell_type": "code",
   "execution_count": null,
   "id": "3e00b72d",
   "metadata": {
    "id": "3e00b72d",
    "outputId": "313c8d9f-3479-4df7-964d-ab6ce8fcee7e"
   },
   "outputs": [
    {
     "data": {
      "text/html": [
       "<div>\n",
       "<style scoped>\n",
       "    .dataframe tbody tr th:only-of-type {\n",
       "        vertical-align: middle;\n",
       "    }\n",
       "\n",
       "    .dataframe tbody tr th {\n",
       "        vertical-align: top;\n",
       "    }\n",
       "\n",
       "    .dataframe thead th {\n",
       "        text-align: right;\n",
       "    }\n",
       "</style>\n",
       "<table border=\"1\" class=\"dataframe\">\n",
       "  <thead>\n",
       "    <tr style=\"text-align: right;\">\n",
       "      <th></th>\n",
       "      <th>CO2</th>\n",
       "    </tr>\n",
       "    <tr>\n",
       "      <th>Year</th>\n",
       "      <th></th>\n",
       "    </tr>\n",
       "  </thead>\n",
       "  <tbody>\n",
       "    <tr>\n",
       "      <th>1800</th>\n",
       "      <td>0.00568</td>\n",
       "    </tr>\n",
       "    <tr>\n",
       "      <th>1801</th>\n",
       "      <td>0.00561</td>\n",
       "    </tr>\n",
       "    <tr>\n",
       "      <th>1802</th>\n",
       "      <td>0.00555</td>\n",
       "    </tr>\n",
       "    <tr>\n",
       "      <th>1803</th>\n",
       "      <td>0.00548</td>\n",
       "    </tr>\n",
       "    <tr>\n",
       "      <th>1804</th>\n",
       "      <td>0.00542</td>\n",
       "    </tr>\n",
       "    <tr>\n",
       "      <th>...</th>\n",
       "      <td>...</td>\n",
       "    </tr>\n",
       "    <tr>\n",
       "      <th>2010</th>\n",
       "      <td>15.60000</td>\n",
       "    </tr>\n",
       "    <tr>\n",
       "      <th>2011</th>\n",
       "      <td>15.60000</td>\n",
       "    </tr>\n",
       "    <tr>\n",
       "      <th>2012</th>\n",
       "      <td>14.80000</td>\n",
       "    </tr>\n",
       "    <tr>\n",
       "      <th>2013</th>\n",
       "      <td>14.70000</td>\n",
       "    </tr>\n",
       "    <tr>\n",
       "      <th>2014</th>\n",
       "      <td>15.10000</td>\n",
       "    </tr>\n",
       "  </tbody>\n",
       "</table>\n",
       "<p>215 rows × 1 columns</p>\n",
       "</div>"
      ],
      "text/plain": [
       "           CO2\n",
       "Year          \n",
       "1800   0.00568\n",
       "1801   0.00561\n",
       "1802   0.00555\n",
       "1803   0.00548\n",
       "1804   0.00542\n",
       "...        ...\n",
       "2010  15.60000\n",
       "2011  15.60000\n",
       "2012  14.80000\n",
       "2013  14.70000\n",
       "2014  15.10000\n",
       "\n",
       "[215 rows x 1 columns]"
      ]
     },
     "execution_count": 3,
     "metadata": {},
     "output_type": "execute_result"
    }
   ],
   "source": [
    "co2_data = pd.read_csv('CO2 dataset.xlsx - Sheet1.csv',index_col=0,squeeze=False,parse_dates=False)\n",
    "co2_data"
   ]
  },
  {
   "cell_type": "code",
   "execution_count": null,
   "id": "f9878f20",
   "metadata": {
    "id": "f9878f20",
    "outputId": "eebec923-78f6-42d3-c99e-ecd1e42503f8"
   },
   "outputs": [
    {
     "data": {
      "text/plain": [
       "CO2    0\n",
       "dtype: int64"
      ]
     },
     "execution_count": 4,
     "metadata": {},
     "output_type": "execute_result"
    }
   ],
   "source": [
    "co2_data.isna().sum()"
   ]
  },
  {
   "cell_type": "code",
   "execution_count": null,
   "id": "6ed6ed1e",
   "metadata": {
    "id": "6ed6ed1e",
    "outputId": "5b5bc54d-dc55-4fb5-fbc1-fb5bc28cedb3"
   },
   "outputs": [
    {
     "data": {
      "text/plain": [
       "CO2    float64\n",
       "dtype: object"
      ]
     },
     "execution_count": 5,
     "metadata": {},
     "output_type": "execute_result"
    }
   ],
   "source": [
    "co2_data.dtypes"
   ]
  },
  {
   "cell_type": "code",
   "execution_count": null,
   "id": "967048f3",
   "metadata": {
    "id": "967048f3",
    "outputId": "761f5513-911b-4743-86ff-9adeba11a959"
   },
   "outputs": [
    {
     "data": {
      "text/plain": [
       "<AxesSubplot:xlabel='Year'>"
      ]
     },
     "execution_count": 6,
     "metadata": {},
     "output_type": "execute_result"
    },
    {
     "data": {
      "text/plain": [
       "<Figure size 864x432 with 0 Axes>"
      ]
     },
     "metadata": {},
     "output_type": "display_data"
    },
    {
     "data": {
      "image/png": "[encoded data removed]",
      "text/plain": [
       "<Figure size 432x288 with 1 Axes>"
      ]
     },
     "metadata": {},
     "output_type": "display_data"
    }
   ],
   "source": [
    "plt.figure(figsize=(12,6))\n",
    "co2_data.plot()"
   ]
  },
  {
   "cell_type": "code",
   "execution_count": null,
   "id": "cf250c31",
   "metadata": {
    "id": "cf250c31",
    "outputId": "a33b2574-997a-4e63-8f91-776871c72653"
   },
   "outputs": [
    {
     "name": "stderr",
     "output_type": "stream",
     "text": [
      "C:\\Users\\Nikhil\\anaconda3\\lib\\site-packages\\seaborn\\distributions.py:2557: FutureWarning: `distplot` is a deprecated function and will be removed in a future version. Please adapt your code to use either `displot` (a figure-level function with similar flexibility) or `kdeplot` (an axes-level function for kernel density plots).\n",
      "  warnings.warn(msg, FutureWarning)\n"
     ]
    },
    {
     "data": {
      "text/plain": [
       "<AxesSubplot:ylabel='Density'>"
      ]
     },
     "execution_count": 7,
     "metadata": {},
     "output_type": "execute_result"
    },
    {
     "data": {
      "image/png": "[encoded data removed]",
      "text/plain": [
       "<Figure size 432x288 with 1 Axes>"
      ]
     },
     "metadata": {},
     "output_type": "display_data"
    }
   ],
   "source": [
    "sns.distplot(co2_data,hist=False)"
   ]
  },
  {
   "cell_type": "code",
   "execution_count": null,
   "id": "be8d4b4f",
   "metadata": {
    "id": "be8d4b4f"
   },
   "outputs": [],
   "source": [
    "from pandas.plotting import lag_plot"
   ]
  },
  {
   "cell_type": "code",
   "execution_count": null,
   "id": "aa864c51",
   "metadata": {
    "id": "aa864c51",
    "outputId": "072821b3-0c45-4e38-da8f-221b315b4695"
   },
   "outputs": [
    {
     "data": {
      "image/png": "[encoded data removed]",
      "text/plain": [
       "<Figure size 432x288 with 1 Axes>"
      ]
     },
     "metadata": {},
     "output_type": "display_data"
    }
   ],
   "source": [
    "lag_plot(series = co2_data,lag=1)\n",
    "plt.show()"
   ]
  },
  {
   "cell_type": "code",
   "execution_count": null,
   "id": "c901a7e8",
   "metadata": {
    "id": "c901a7e8"
   },
   "outputs": [],
   "source": [
    "from statsmodels.graphics.tsaplots import plot_acf,plot_pacf"
   ]
  },
  {
   "cell_type": "code",
   "execution_count": null,
   "id": "7bae5bf5",
   "metadata": {
    "id": "7bae5bf5",
    "outputId": "d74f4a3c-7aef-4096-bd2a-9136ace9bab5"
   },
   "outputs": [
    {
     "data": {
      "image/png": "[encoded data removed]",
      "text/plain": [
       "<Figure size 432x288 with 1 Axes>"
      ]
     },
     "metadata": {},
     "output_type": "display_data"
    }
   ],
   "source": [
    "plot_acf(x = co2_data,lags=18)\n",
    "plt.show()"
   ]
  },
  {
   "cell_type": "code",
   "execution_count": null,
   "id": "3ad878fe",
   "metadata": {
    "id": "3ad878fe",
    "outputId": "9818276c-7362-428f-bd29-d46f9a337d57"
   },
   "outputs": [
    {
     "data": {
      "image/png": "[encoded data removed]",
      "text/plain": [
       "<Figure size 432x288 with 1 Axes>"
      ]
     },
     "metadata": {},
     "output_type": "display_data"
    }
   ],
   "source": [
    "plot_pacf(x = co2_data,lags=18)\n",
    "plt.show()"
   ]
  },
  {
   "cell_type": "code",
   "execution_count": null,
   "id": "12513b80",
   "metadata": {
    "id": "12513b80",
    "outputId": "f96a84a1-ee8d-4869-976a-8202f5708c6b"
   },
   "outputs": [
    {
     "data": {
      "text/plain": [
       "<matplotlib.legend.Legend at 0x1e5717a68b0>"
      ]
     },
     "execution_count": 11,
     "metadata": {},
     "output_type": "execute_result"
    },
    {
     "data": {
      "image/png": "[encoded data removed]",
      "text/plain": [
       "<Figure size 864x288 with 1 Axes>"
      ]
     },
     "metadata": {},
     "output_type": "display_data"
    }
   ],
   "source": [
    "plt.figure(figsize=(12,4))\n",
    "co2_data.CO2.plot(label=\"org\")\n",
    "for i in range(2,24,6):\n",
    "   co2_data[\"CO2\"].rolling(i).mean().plot(label=str(i))\n",
    "plt.legend(loc='best')"
   ]
  },
  {
   "cell_type": "code",
   "execution_count": null,
   "id": "3e0fd955",
   "metadata": {
    "id": "3e0fd955",
    "outputId": "8afa909e-6390-48a6-8f0c-1e04dcbafc9d"
   },
   "outputs": [
    {
     "data": {
      "image/png": "[encoded data removed]",
      "text/plain": [
       "<Figure size 432x288 with 4 Axes>"
      ]
     },
     "metadata": {},
     "output_type": "display_data"
    }
   ],
   "source": [
    "decompose_ts_add = seasonal_decompose(co2_data.CO2,period=12)\n",
    "decompose_ts_add.plot()\n",
    "plt.show()"
   ]
  },
  {
   "cell_type": "markdown",
   "id": "c6f489a1",
   "metadata": {
    "id": "c6f489a1"
   },
   "source": [
    "## model building"
   ]
  },
  {
   "cell_type": "code",
   "execution_count": null,
   "id": "972b8b70",
   "metadata": {
    "id": "972b8b70"
   },
   "outputs": [],
   "source": [
    "import statsmodels.formula.api as smf\n",
    "import numpy as np"
   ]
  },
  {
   "cell_type": "code",
   "execution_count": null,
   "id": "505d125d",
   "metadata": {
    "id": "505d125d"
   },
   "outputs": [],
   "source": [
    "CO2_log = np.log(co2_data.CO2)"
   ]
  },
  {
   "cell_type": "code",
   "execution_count": null,
   "id": "1e3186f8",
   "metadata": {
    "id": "1e3186f8"
   },
   "outputs": [],
   "source": [
    "co2_data['co2_log'] = CO2_log"
   ]
  },
  {
   "cell_type": "code",
   "execution_count": null,
   "id": "233c5b9d",
   "metadata": {
    "id": "233c5b9d",
    "outputId": "923b52df-7645-46dc-d006-543df7d3972b"
   },
   "outputs": [
    {
     "data": {
      "text/html": [
       "<div>\n",
       "<style scoped>\n",
       "    .dataframe tbody tr th:only-of-type {\n",
       "        vertical-align: middle;\n",
       "    }\n",
       "\n",
       "    .dataframe tbody tr th {\n",
       "        vertical-align: top;\n",
       "    }\n",
       "\n",
       "    .dataframe thead th {\n",
       "        text-align: right;\n",
       "    }\n",
       "</style>\n",
       "<table border=\"1\" class=\"dataframe\">\n",
       "  <thead>\n",
       "    <tr style=\"text-align: right;\">\n",
       "      <th></th>\n",
       "      <th>CO2</th>\n",
       "      <th>co2_log</th>\n",
       "    </tr>\n",
       "    <tr>\n",
       "      <th>Year</th>\n",
       "      <th></th>\n",
       "      <th></th>\n",
       "    </tr>\n",
       "  </thead>\n",
       "  <tbody>\n",
       "    <tr>\n",
       "      <th>1800</th>\n",
       "      <td>0.00568</td>\n",
       "      <td>-5.170804</td>\n",
       "    </tr>\n",
       "    <tr>\n",
       "      <th>1801</th>\n",
       "      <td>0.00561</td>\n",
       "      <td>-5.183205</td>\n",
       "    </tr>\n",
       "    <tr>\n",
       "      <th>1802</th>\n",
       "      <td>0.00555</td>\n",
       "      <td>-5.193957</td>\n",
       "    </tr>\n",
       "    <tr>\n",
       "      <th>1803</th>\n",
       "      <td>0.00548</td>\n",
       "      <td>-5.206650</td>\n",
       "    </tr>\n",
       "    <tr>\n",
       "      <th>1804</th>\n",
       "      <td>0.00542</td>\n",
       "      <td>-5.217659</td>\n",
       "    </tr>\n",
       "    <tr>\n",
       "      <th>...</th>\n",
       "      <td>...</td>\n",
       "      <td>...</td>\n",
       "    </tr>\n",
       "    <tr>\n",
       "      <th>2010</th>\n",
       "      <td>15.60000</td>\n",
       "      <td>2.747271</td>\n",
       "    </tr>\n",
       "    <tr>\n",
       "      <th>2011</th>\n",
       "      <td>15.60000</td>\n",
       "      <td>2.747271</td>\n",
       "    </tr>\n",
       "    <tr>\n",
       "      <th>2012</th>\n",
       "      <td>14.80000</td>\n",
       "      <td>2.694627</td>\n",
       "    </tr>\n",
       "    <tr>\n",
       "      <th>2013</th>\n",
       "      <td>14.70000</td>\n",
       "      <td>2.687847</td>\n",
       "    </tr>\n",
       "    <tr>\n",
       "      <th>2014</th>\n",
       "      <td>15.10000</td>\n",
       "      <td>2.714695</td>\n",
       "    </tr>\n",
       "  </tbody>\n",
       "</table>\n",
       "<p>215 rows × 2 columns</p>\n",
       "</div>"
      ],
      "text/plain": [
       "           CO2   co2_log\n",
       "Year                    \n",
       "1800   0.00568 -5.170804\n",
       "1801   0.00561 -5.183205\n",
       "1802   0.00555 -5.193957\n",
       "1803   0.00548 -5.206650\n",
       "1804   0.00542 -5.217659\n",
       "...        ...       ...\n",
       "2010  15.60000  2.747271\n",
       "2011  15.60000  2.747271\n",
       "2012  14.80000  2.694627\n",
       "2013  14.70000  2.687847\n",
       "2014  15.10000  2.714695\n",
       "\n",
       "[215 rows x 2 columns]"
      ]
     },
     "execution_count": 19,
     "metadata": {},
     "output_type": "execute_result"
    }
   ],
   "source": [
    "co2_data"
   ]
  },
  {
   "cell_type": "code",
   "execution_count": null,
   "id": "4f1dc8b9",
   "metadata": {
    "id": "4f1dc8b9",
    "outputId": "80a03464-d8af-4f89-e4af-72ee9ad5861f"
   },
   "outputs": [
    {
     "name": "stdout",
     "output_type": "stream",
     "text": [
      "[  1   2   3   4   5   6   7   8   9  10  11  12  13  14  15  16  17  18\n",
      "  19  20  21  22  23  24  25  26  27  28  29  30  31  32  33  34  35  36\n",
      "  37  38  39  40  41  42  43  44  45  46  47  48  49  50  51  52  53  54\n",
      "  55  56  57  58  59  60  61  62  63  64  65  66  67  68  69  70  71  72\n",
      "  73  74  75  76  77  78  79  80  81  82  83  84  85  86  87  88  89  90\n",
      "  91  92  93  94  95  96  97  98  99 100 101 102 103 104 105 106 107 108\n",
      " 109 110 111 112 113 114 115 116 117 118 119 120 121 122 123 124 125 126\n",
      " 127 128 129 130 131 132 133 134 135 136 137 138 139 140 141 142 143 144\n",
      " 145 146 147 148 149 150 151 152 153 154 155 156 157 158 159 160 161 162\n",
      " 163 164 165 166 167 168 169 170 171 172 173 174 175 176 177 178 179 180\n",
      " 181 182 183 184 185 186 187 188 189 190 191 192 193 194 195 196 197 198\n",
      " 199 200 201 202 203 204 205 206 207 208 209 210 211 212 213 214 215]\n"
     ]
    }
   ],
   "source": [
    "t=np.arange(1,216,dtype='int')\n",
    "print(t)"
   ]
  },
  {
   "cell_type": "code",
   "execution_count": null,
   "id": "171f94e8",
   "metadata": {
    "id": "171f94e8"
   },
   "outputs": [],
   "source": [
    "co2_data['t'] = t"
   ]
  },
  {
   "cell_type": "code",
   "execution_count": null,
   "id": "574964ce",
   "metadata": {
    "id": "574964ce",
    "outputId": "f33a2de4-ac07-4934-9e62-6fd6e7109fe2"
   },
   "outputs": [
    {
     "data": {
      "text/html": [
       "<div>\n",
       "<style scoped>\n",
       "    .dataframe tbody tr th:only-of-type {\n",
       "        vertical-align: middle;\n",
       "    }\n",
       "\n",
       "    .dataframe tbody tr th {\n",
       "        vertical-align: top;\n",
       "    }\n",
       "\n",
       "    .dataframe thead th {\n",
       "        text-align: right;\n",
       "    }\n",
       "</style>\n",
       "<table border=\"1\" class=\"dataframe\">\n",
       "  <thead>\n",
       "    <tr style=\"text-align: right;\">\n",
       "      <th></th>\n",
       "      <th>CO2</th>\n",
       "      <th>co2_log</th>\n",
       "      <th>t</th>\n",
       "    </tr>\n",
       "    <tr>\n",
       "      <th>Year</th>\n",
       "      <th></th>\n",
       "      <th></th>\n",
       "      <th></th>\n",
       "    </tr>\n",
       "  </thead>\n",
       "  <tbody>\n",
       "    <tr>\n",
       "      <th>1800</th>\n",
       "      <td>0.00568</td>\n",
       "      <td>-5.170804</td>\n",
       "      <td>1</td>\n",
       "    </tr>\n",
       "    <tr>\n",
       "      <th>1801</th>\n",
       "      <td>0.00561</td>\n",
       "      <td>-5.183205</td>\n",
       "      <td>2</td>\n",
       "    </tr>\n",
       "    <tr>\n",
       "      <th>1802</th>\n",
       "      <td>0.00555</td>\n",
       "      <td>-5.193957</td>\n",
       "      <td>3</td>\n",
       "    </tr>\n",
       "    <tr>\n",
       "      <th>1803</th>\n",
       "      <td>0.00548</td>\n",
       "      <td>-5.206650</td>\n",
       "      <td>4</td>\n",
       "    </tr>\n",
       "    <tr>\n",
       "      <th>1804</th>\n",
       "      <td>0.00542</td>\n",
       "      <td>-5.217659</td>\n",
       "      <td>5</td>\n",
       "    </tr>\n",
       "    <tr>\n",
       "      <th>...</th>\n",
       "      <td>...</td>\n",
       "      <td>...</td>\n",
       "      <td>...</td>\n",
       "    </tr>\n",
       "    <tr>\n",
       "      <th>2010</th>\n",
       "      <td>15.60000</td>\n",
       "      <td>2.747271</td>\n",
       "      <td>211</td>\n",
       "    </tr>\n",
       "    <tr>\n",
       "      <th>2011</th>\n",
       "      <td>15.60000</td>\n",
       "      <td>2.747271</td>\n",
       "      <td>212</td>\n",
       "    </tr>\n",
       "    <tr>\n",
       "      <th>2012</th>\n",
       "      <td>14.80000</td>\n",
       "      <td>2.694627</td>\n",
       "      <td>213</td>\n",
       "    </tr>\n",
       "    <tr>\n",
       "      <th>2013</th>\n",
       "      <td>14.70000</td>\n",
       "      <td>2.687847</td>\n",
       "      <td>214</td>\n",
       "    </tr>\n",
       "    <tr>\n",
       "      <th>2014</th>\n",
       "      <td>15.10000</td>\n",
       "      <td>2.714695</td>\n",
       "      <td>215</td>\n",
       "    </tr>\n",
       "  </tbody>\n",
       "</table>\n",
       "<p>215 rows × 3 columns</p>\n",
       "</div>"
      ],
      "text/plain": [
       "           CO2   co2_log    t\n",
       "Year                         \n",
       "1800   0.00568 -5.170804    1\n",
       "1801   0.00561 -5.183205    2\n",
       "1802   0.00555 -5.193957    3\n",
       "1803   0.00548 -5.206650    4\n",
       "1804   0.00542 -5.217659    5\n",
       "...        ...       ...  ...\n",
       "2010  15.60000  2.747271  211\n",
       "2011  15.60000  2.747271  212\n",
       "2012  14.80000  2.694627  213\n",
       "2013  14.70000  2.687847  214\n",
       "2014  15.10000  2.714695  215\n",
       "\n",
       "[215 rows x 3 columns]"
      ]
     },
     "execution_count": 22,
     "metadata": {},
     "output_type": "execute_result"
    }
   ],
   "source": [
    "co2_data"
   ]
  },
  {
   "cell_type": "code",
   "execution_count": null,
   "id": "ea5fbe8d",
   "metadata": {
    "id": "ea5fbe8d"
   },
   "outputs": [],
   "source": [
    "t_sqr = t*2"
   ]
  },
  {
   "cell_type": "code",
   "execution_count": null,
   "id": "c7fe5fd6",
   "metadata": {
    "id": "c7fe5fd6"
   },
   "outputs": [],
   "source": [
    "co2_data['t_sqr'] = t_sqr"
   ]
  },
  {
   "cell_type": "code",
   "execution_count": null,
   "id": "eeef364e",
   "metadata": {
    "id": "eeef364e",
    "outputId": "58c2da1f-f82c-4c15-9ae1-bdf616fef62c"
   },
   "outputs": [
    {
     "data": {
      "text/html": [
       "<div>\n",
       "<style scoped>\n",
       "    .dataframe tbody tr th:only-of-type {\n",
       "        vertical-align: middle;\n",
       "    }\n",
       "\n",
       "    .dataframe tbody tr th {\n",
       "        vertical-align: top;\n",
       "    }\n",
       "\n",
       "    .dataframe thead th {\n",
       "        text-align: right;\n",
       "    }\n",
       "</style>\n",
       "<table border=\"1\" class=\"dataframe\">\n",
       "  <thead>\n",
       "    <tr style=\"text-align: right;\">\n",
       "      <th></th>\n",
       "      <th>CO2</th>\n",
       "      <th>co2_log</th>\n",
       "      <th>t</th>\n",
       "      <th>t_sqr</th>\n",
       "    </tr>\n",
       "    <tr>\n",
       "      <th>Year</th>\n",
       "      <th></th>\n",
       "      <th></th>\n",
       "      <th></th>\n",
       "      <th></th>\n",
       "    </tr>\n",
       "  </thead>\n",
       "  <tbody>\n",
       "    <tr>\n",
       "      <th>1800</th>\n",
       "      <td>0.00568</td>\n",
       "      <td>-5.170804</td>\n",
       "      <td>1</td>\n",
       "      <td>2</td>\n",
       "    </tr>\n",
       "    <tr>\n",
       "      <th>1801</th>\n",
       "      <td>0.00561</td>\n",
       "      <td>-5.183205</td>\n",
       "      <td>2</td>\n",
       "      <td>4</td>\n",
       "    </tr>\n",
       "    <tr>\n",
       "      <th>1802</th>\n",
       "      <td>0.00555</td>\n",
       "      <td>-5.193957</td>\n",
       "      <td>3</td>\n",
       "      <td>6</td>\n",
       "    </tr>\n",
       "    <tr>\n",
       "      <th>1803</th>\n",
       "      <td>0.00548</td>\n",
       "      <td>-5.206650</td>\n",
       "      <td>4</td>\n",
       "      <td>8</td>\n",
       "    </tr>\n",
       "    <tr>\n",
       "      <th>1804</th>\n",
       "      <td>0.00542</td>\n",
       "      <td>-5.217659</td>\n",
       "      <td>5</td>\n",
       "      <td>10</td>\n",
       "    </tr>\n",
       "    <tr>\n",
       "      <th>...</th>\n",
       "      <td>...</td>\n",
       "      <td>...</td>\n",
       "      <td>...</td>\n",
       "      <td>...</td>\n",
       "    </tr>\n",
       "    <tr>\n",
       "      <th>2010</th>\n",
       "      <td>15.60000</td>\n",
       "      <td>2.747271</td>\n",
       "      <td>211</td>\n",
       "      <td>422</td>\n",
       "    </tr>\n",
       "    <tr>\n",
       "      <th>2011</th>\n",
       "      <td>15.60000</td>\n",
       "      <td>2.747271</td>\n",
       "      <td>212</td>\n",
       "      <td>424</td>\n",
       "    </tr>\n",
       "    <tr>\n",
       "      <th>2012</th>\n",
       "      <td>14.80000</td>\n",
       "      <td>2.694627</td>\n",
       "      <td>213</td>\n",
       "      <td>426</td>\n",
       "    </tr>\n",
       "    <tr>\n",
       "      <th>2013</th>\n",
       "      <td>14.70000</td>\n",
       "      <td>2.687847</td>\n",
       "      <td>214</td>\n",
       "      <td>428</td>\n",
       "    </tr>\n",
       "    <tr>\n",
       "      <th>2014</th>\n",
       "      <td>15.10000</td>\n",
       "      <td>2.714695</td>\n",
       "      <td>215</td>\n",
       "      <td>430</td>\n",
       "    </tr>\n",
       "  </tbody>\n",
       "</table>\n",
       "<p>215 rows × 4 columns</p>\n",
       "</div>"
      ],
      "text/plain": [
       "           CO2   co2_log    t  t_sqr\n",
       "Year                                \n",
       "1800   0.00568 -5.170804    1      2\n",
       "1801   0.00561 -5.183205    2      4\n",
       "1802   0.00555 -5.193957    3      6\n",
       "1803   0.00548 -5.206650    4      8\n",
       "1804   0.00542 -5.217659    5     10\n",
       "...        ...       ...  ...    ...\n",
       "2010  15.60000  2.747271  211    422\n",
       "2011  15.60000  2.747271  212    424\n",
       "2012  14.80000  2.694627  213    426\n",
       "2013  14.70000  2.687847  214    428\n",
       "2014  15.10000  2.714695  215    430\n",
       "\n",
       "[215 rows x 4 columns]"
      ]
     },
     "execution_count": 25,
     "metadata": {},
     "output_type": "execute_result"
    }
   ],
   "source": [
    "co2_data"
   ]
  },
  {
   "cell_type": "code",
   "execution_count": null,
   "id": "572badb6",
   "metadata": {
    "id": "572badb6"
   },
   "outputs": [],
   "source": [
    "train_data = co2_data.head(200)\n",
    "test_data = co2_data.tail(15)"
   ]
  },
  {
   "cell_type": "code",
   "execution_count": null,
   "id": "951777bf",
   "metadata": {
    "id": "951777bf",
    "outputId": "b194e8ca-cd9e-4752-d461-b160df59b173"
   },
   "outputs": [
    {
     "data": {
      "text/plain": [
       "1.4378779595679576"
      ]
     },
     "execution_count": 28,
     "metadata": {},
     "output_type": "execute_result"
    }
   ],
   "source": [
    "## Training model\n",
    "linear_model = smf.ols('CO2~t',data=train_data).fit()\n",
    "## Testing model\n",
    "Pred_linear  = pd.Series(linear_model.predict(test_data['t']))\n",
    "## Evalutaion\n",
    "\n",
    "rmse_linear = np.sqrt(np.mean((np.array(test_data['CO2'])-np.array(Pred_linear))**2))\n",
    "rmse_linear"
   ]
  },
  {
   "cell_type": "code",
   "execution_count": null,
   "id": "25a88830",
   "metadata": {
    "id": "25a88830",
    "outputId": "ae4bbf70-6102-43cc-9a06-c6e4ff844b8c"
   },
   "outputs": [
    {
     "data": {
      "text/plain": [
       "203.82470465915628"
      ]
     },
     "execution_count": 29,
     "metadata": {},
     "output_type": "execute_result"
    }
   ],
   "source": [
    "## Exponential model\n",
    "\n",
    "## Training model\n",
    "Exp_model = smf.ols('co2_log~t',data=train_data).fit()\n",
    "## Testing model\n",
    "Pred_Exp  = pd.Series(Exp_model.predict(test_data['t']))\n",
    "## Evalutaion\n",
    "rmse_Exp = np.sqrt(np.mean((np.array(test_data['CO2'])-np.array(np.exp(Pred_Exp)))**2))\n",
    "rmse_Exp"
   ]
  },
  {
   "cell_type": "code",
   "execution_count": null,
   "id": "46f9e14b",
   "metadata": {
    "id": "46f9e14b",
    "outputId": "60d87f2b-aaa6-4313-a28c-7b32da3f6597"
   },
   "outputs": [
    {
     "data": {
      "text/plain": [
       "1.4378779595679627"
      ]
     },
     "execution_count": 30,
     "metadata": {},
     "output_type": "execute_result"
    }
   ],
   "source": [
    "### Quadratic model\n",
    "\n",
    "## Training model\n",
    "Quad_model = smf.ols('CO2~t+t_sqr',data=train_data).fit()\n",
    "## Testing model\n",
    "Pred_Quad  = pd.Series(Quad_model.predict(test_data[['t','t_sqr']]))\n",
    "## Evalutaion\n",
    "rmse_Quad = np.sqrt(np.mean((np.array(test_data['CO2'])-np.array(Pred_Quad))**2))\n",
    "rmse_Quad"
   ]
  },
  {
   "cell_type": "code",
   "execution_count": null,
   "id": "461f5add",
   "metadata": {
    "id": "461f5add"
   },
   "outputs": [],
   "source": [
    "def MAPE(pred,org):\n",
    "    temp = np.abs((pred-org)/org)*100\n",
    "    return np.mean(temp)"
   ]
  },
  {
   "cell_type": "code",
   "execution_count": null,
   "id": "77ed0ed8",
   "metadata": {
    "id": "77ed0ed8"
   },
   "outputs": [],
   "source": [
    "Train = co2_data.head(200)\n",
    "Test = co2_data.tail(15)"
   ]
  },
  {
   "cell_type": "code",
   "execution_count": null,
   "id": "1d9260cb",
   "metadata": {
    "id": "1d9260cb",
    "outputId": "639b9320-2daa-410a-c1dc-f059deb5aea4"
   },
   "outputs": [
    {
     "name": "stderr",
     "output_type": "stream",
     "text": [
      "C:\\Users\\Nikhil\\anaconda3\\lib\\site-packages\\statsmodels\\tsa\\base\\tsa_model.py:578: ValueWarning: An unsupported index was provided and will be ignored when e.g. forecasting.\n",
      "  warnings.warn('An unsupported index was provided and will be'\n",
      "C:\\Users\\Nikhil\\anaconda3\\lib\\site-packages\\statsmodels\\tsa\\holtwinters\\model.py:427: FutureWarning: After 0.13 initialization must be handled at model creation\n",
      "  warnings.warn(\n",
      "C:\\Users\\Nikhil\\anaconda3\\lib\\site-packages\\statsmodels\\tsa\\base\\tsa_model.py:376: ValueWarning: No supported index is available. Prediction results will be given with an integer index beginning at `start`.\n",
      "  warnings.warn('No supported index is available.'\n"
     ]
    },
    {
     "data": {
      "text/plain": [
       "5.24295397714771"
      ]
     },
     "execution_count": 115,
     "metadata": {},
     "output_type": "execute_result"
    }
   ],
   "source": [
    "ses_model = SimpleExpSmoothing(Train[\"CO2\"]).fit(smoothing_level=0.2)\n",
    "pred_ses = ses_model.predict(start = Test.index[0],end = Test.index[-1])\n",
    "MAPE(pred_ses,Test.CO2) "
   ]
  },
  {
   "cell_type": "code",
   "execution_count": null,
   "id": "0a0c9205",
   "metadata": {
    "id": "0a0c9205",
    "outputId": "3f22832e-176b-4e7c-eb50-0e2fb18da0be"
   },
   "outputs": [
    {
     "name": "stderr",
     "output_type": "stream",
     "text": [
      "C:\\Users\\Nikhil\\anaconda3\\lib\\site-packages\\statsmodels\\tsa\\base\\tsa_model.py:578: ValueWarning: An unsupported index was provided and will be ignored when e.g. forecasting.\n",
      "  warnings.warn('An unsupported index was provided and will be'\n",
      "C:\\Users\\Nikhil\\anaconda3\\lib\\site-packages\\statsmodels\\tsa\\holtwinters\\model.py:427: FutureWarning: After 0.13 initialization must be handled at model creation\n",
      "  warnings.warn(\n"
     ]
    }
   ],
   "source": [
    "hwe_model_add_add = ExponentialSmoothing(co2_data[\"CO2\"],seasonal=\"add\",trend=\"add\",seasonal_periods=12).fit()"
   ]
  },
  {
   "cell_type": "code",
   "execution_count": null,
   "id": "4ec8639f",
   "metadata": {
    "id": "4ec8639f"
   },
   "outputs": [],
   "source": []
  }
 ],
 "metadata": {
  "colab": {
   "name": "Project [Co2] -checkpoint.ipynb",
   "provenance": []
  },
  "kernelspec": {
   "display_name": "Python 3 (ipykernel)",
   "language": "python",
   "name": "python3"
  },
  "language_info": {
   "codemirror_mode": {
    "name": "ipython",
    "version": 3
   },
   "file_extension": ".py",
   "mimetype": "text/x-python",
   "name": "python",
   "nbconvert_exporter": "python",
   "pygments_lexer": "ipython3",
   "version": "3.9.12"
  }
 },
 "nbformat": 4,
 "nbformat_minor": 5
}
